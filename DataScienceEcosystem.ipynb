{
 "cells": [
  {
   "cell_type": "markdown",
   "id": "fd67ac92-8162-4576-85d0-7bc36a361573",
   "metadata": {},
   "source": [
    "# Data Science Tools and Ecosystem"
   ]
  },
  {
   "cell_type": "markdown",
   "id": "fc6810b5-0671-473d-a684-368b2a63d9e6",
   "metadata": {},
   "source": [
    "### **In this notebook, Data Science Tools and Ecosystem are summarized.**\n",
    "**Objectives:**\n",
    "- List popular languages for data science\n",
    "- List common libraries for data science\n",
    "- List common data science tools\n",
    "- Show examples od arithmetic expressions in Python"
   ]
  },
  {
   "cell_type": "markdown",
   "id": "a0f2bc3b-15a4-428b-9094-e24a27632581",
   "metadata": {},
   "source": [
    "### _Some of the popular languages that Data Scientists use are:_\n",
    "1. Python\n",
    "2. R\n",
    "3. SQL\n",
    "4. Julia\n",
    "5. Scala\n",
    "6. Java\n",
    "7. Javascript\n",
    "8. C++"
   ]
  },
  {
   "cell_type": "markdown",
   "id": "84b24e95-50a5-4e79-affd-b7e1492d6eea",
   "metadata": {},
   "source": [
    "### _Some of the commonly used libraries used by Data Scientists include:_\n",
    "#### For Python:\n",
    "1. pandas\n",
    "2. matplotlib\n",
    "3. numpy\n",
    "4. tensorflow\n",
    "\n",
    "   \n",
    "\n",
    "#### For R:\n",
    "1. ggplot\n",
    "2. leaflet\n",
    "3. plotly\n",
    "4. lattice"
   ]
  },
  {
   "cell_type": "markdown",
   "id": "b631440e-a993-4c79-a50d-bdc79ffa7e12",
   "metadata": {},
   "source": [
    "**Data Science Tools**\n",
    "|--------------------|\n",
    "VS Code\n",
    "RStudio\n",
    "JupyterLab\n",
    "MongoDB\n",
    "MySQL\n",
    "PostgreSQL\n",
    "Anaconda\n",
    "Apache Spark\n",
    "Kubernetes\n",
    "ModelDB"
   ]
  },
  {
   "cell_type": "markdown",
   "id": "ac5e5310-946c-455c-b2c5-8e363be10486",
   "metadata": {},
   "source": [
    "Below are a few examples of evaluating arithmetic expressions in Python."
   ]
  },
  {
   "cell_type": "code",
   "execution_count": 1,
   "id": "ac376313-6fae-416b-9026-2523fb4ccc83",
   "metadata": {},
   "outputs": [
    {
     "data": {
      "text/plain": [
       "17"
      ]
     },
     "execution_count": 1,
     "metadata": {},
     "output_type": "execute_result"
    }
   ],
   "source": [
    "## This a simple arithmetic expression to mutiply then add integers\n",
    "(3*4)+5"
   ]
  },
  {
   "cell_type": "code",
   "execution_count": 14,
   "id": "85cf0198-5d4b-427b-974c-4fe12bb8ca9e",
   "metadata": {},
   "outputs": [
    {
     "name": "stdout",
     "output_type": "stream",
     "text": [
      "3.3333333333333335 hours\n"
     ]
    }
   ],
   "source": [
    "## This will convert 200 minutes to hours by dividing by 60.\n",
    "\n",
    "x = 200/60\n",
    "\n",
    "print(f\"{x} hours\") \n"
   ]
  },
  {
   "cell_type": "markdown",
   "id": "26bbd229-421b-4d91-a327-59d5541b7a54",
   "metadata": {},
   "source": [
    "## Author\n",
    "Gizem Korun"
   ]
  }
 ],
 "metadata": {
  "kernelspec": {
   "display_name": "Python 3 (ipykernel)",
   "language": "python",
   "name": "python3"
  },
  "language_info": {
   "codemirror_mode": {
    "name": "ipython",
    "version": 3
   },
   "file_extension": ".py",
   "mimetype": "text/x-python",
   "name": "python",
   "nbconvert_exporter": "python",
   "pygments_lexer": "ipython3",
   "version": "3.12.9"
  }
 },
 "nbformat": 4,
 "nbformat_minor": 5
}
